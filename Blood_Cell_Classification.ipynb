{
  "nbformat": 4,
  "nbformat_minor": 0,
  "metadata": {
    "colab": {
      "name": "Blood Cell.ipynb",
      "version": "0.3.2",
      "provenance": [],
      "collapsed_sections": []
    },
    "kernelspec": {
      "name": "python3",
      "display_name": "Python 3"
    },
    "accelerator": "GPU"
  },
  "cells": [
    {
      "metadata": {
        "id": "PAkurdJcEXmz",
        "colab_type": "text"
      },
      "cell_type": "markdown",
      "source": [
        "## Importing the Dataset"
      ]
    },
    {
      "metadata": {
        "id": "QAHlp0W2nVzn",
        "colab_type": "code",
        "outputId": "02e9fcc6-1323-4cd5-cfdb-60b900e3faa1",
        "colab": {
          "resources": {
            "http://localhost:8080/nbextensions/google.colab/files.js": {
              "data": "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",
              "ok": true,
              "headers": [
                [
                  "content-type",
                  "application/javascript"
                ]
              ],
              "status": 200,
              "status_text": ""
            }
          },
          "base_uri": "https://localhost:8080/",
          "height": 139
        }
      },
      "cell_type": "code",
      "source": [
        "#upload the credentials of the kaggle account\n",
        "from google.colab import files\n",
        "files.upload()\n",
        "#before importing the dataset we want to use this code\n",
        "# The Kaggle API client expects this file to be in ~/.kaggle,\n",
        "!mkdir -p ~/.kaggle\n",
        "!cp kaggle.json ~/.kaggle/\n",
        "\n",
        "# This permissions change avoids a warning on Kaggle tool startup.\n",
        "!chmod 600 ~/.kaggle/kaggle.json\n",
        "# download the dataset\n",
        "!kaggle datasets download -d paultimothymooney/blood-cells\n",
        "!ls"
      ],
      "execution_count": 1,
      "outputs": [
        {
          "output_type": "display_data",
          "data": {
            "text/html": [
              "\n",
              "     <input type=\"file\" id=\"files-95e48358-ba12-4a38-9cf2-3c0258d546af\" name=\"files[]\" multiple disabled />\n",
              "     <output id=\"result-95e48358-ba12-4a38-9cf2-3c0258d546af\">\n",
              "      Upload widget is only available when the cell has been executed in the\n",
              "      current browser session. Please rerun this cell to enable.\n",
              "      </output>\n",
              "      <script src=\"/nbextensions/google.colab/files.js\"></script> "
            ],
            "text/plain": [
              "<IPython.core.display.HTML object>"
            ]
          },
          "metadata": {
            "tags": []
          }
        },
        {
          "output_type": "stream",
          "text": [
            "Saving kaggle.json to kaggle.json\n",
            "Downloading blood-cells.zip to /content\n",
            " 84% 89.0M/106M [00:00<00:00, 136MB/s]\n",
            "100% 106M/106M [00:00<00:00, 167MB/s] \n",
            "blood-cells.zip  kaggle.json  sample_data\n"
          ],
          "name": "stdout"
        }
      ]
    },
    {
      "metadata": {
        "id": "JmRudBw2Ebim",
        "colab_type": "text"
      },
      "cell_type": "markdown",
      "source": [
        "## Extracting Dataset"
      ]
    },
    {
      "metadata": {
        "id": "dsqsbIrk9BTJ",
        "colab_type": "code",
        "colab": {}
      },
      "cell_type": "code",
      "source": [
        "import zipfile\n",
        "with zipfile.ZipFile('blood-cells.zip', 'r') as zip_ref:\n",
        "    zip_ref.extractall('/content')\n",
        "with zipfile.ZipFile('dataset2-master.zip', 'r') as zip_ref:\n",
        "    zip_ref.extractall('/content')"
      ],
      "execution_count": 0,
      "outputs": []
    },
    {
      "metadata": {
        "id": "vCGspr1wEiUB",
        "colab_type": "text"
      },
      "cell_type": "markdown",
      "source": [
        "## Importing Libraries"
      ]
    },
    {
      "metadata": {
        "id": "B0-zn63jnXku",
        "colab_type": "code",
        "colab": {}
      },
      "cell_type": "code",
      "source": [
        "import os\n",
        "from tqdm import tqdm\n",
        "import numpy as np\n",
        "import cv2\n",
        "from PIL import Image\n",
        "from matplotlib import pyplot as plt\n",
        "%matplotlib inline"
      ],
      "execution_count": 0,
      "outputs": []
    },
    {
      "metadata": {
        "id": "50iN8-_jElgL",
        "colab_type": "text"
      },
      "cell_type": "markdown",
      "source": [
        "## Data Preprocessing"
      ]
    },
    {
      "metadata": {
        "id": "QuRVdVXfqGtt",
        "colab_type": "code",
        "colab": {}
      },
      "cell_type": "code",
      "source": [
        "b_dir = 'dataset2-master/images/'\n",
        "def load_images(folder):\n",
        "  dir = b_dir + folder\n",
        "  images = []\n",
        "  for folders in tqdm(os.listdir(dir)):\n",
        "    for files in os.listdir(os.path.join(os.path.join(dir,folders))):\n",
        "      filepath = os.path.join(os.path.join(dir,folders),files)\n",
        "      img = cv2.imread(filepath)\n",
        "      img = cv2.cvtColor(img,cv2.COLOR_BGR2RGB)\n",
        "      img = cv2.resize(img,(32,24))\n",
        "      img = img/255.\n",
        "      images.append((img,folders))\n",
        "  return images"
      ],
      "execution_count": 0,
      "outputs": []
    },
    {
      "metadata": {
        "id": "JjCa9DA_1eBl",
        "colab_type": "code",
        "outputId": "cf1e35c0-e40f-4cdf-cea8-b60a723b22df",
        "colab": {
          "base_uri": "https://localhost:8080/",
          "height": 69
        }
      },
      "cell_type": "code",
      "source": [
        "train = load_images('TRAIN')\n",
        "test = load_images('TEST')\n",
        "val = load_images('TEST_SIMPLE')"
      ],
      "execution_count": 6,
      "outputs": [
        {
          "output_type": "stream",
          "text": [
            "100%|██████████| 4/4 [00:10<00:00,  2.60s/it]\n",
            "100%|██████████| 4/4 [00:02<00:00,  1.52it/s]\n",
            "100%|██████████| 4/4 [00:00<00:00, 53.78it/s]\n"
          ],
          "name": "stderr"
        }
      ]
    },
    {
      "metadata": {
        "id": "BM8fYJBB695Q",
        "colab_type": "code",
        "colab": {}
      },
      "cell_type": "code",
      "source": [
        "def create_dataset(data):\n",
        "  x = []\n",
        "  y = []\n",
        "  for obj in data:\n",
        "    x.append(obj[0])\n",
        "    y.append(obj[1])\n",
        "  x = np.array(x)\n",
        "  y = np.array(y)\n",
        "  return x,y"
      ],
      "execution_count": 0,
      "outputs": []
    },
    {
      "metadata": {
        "id": "qjP9t3wJBd1E",
        "colab_type": "code",
        "colab": {}
      },
      "cell_type": "code",
      "source": [
        "x_train,y_train = create_dataset(train)\n",
        "x_test,y_test = create_dataset(test)\n",
        "x_val,y_val = create_dataset(val)\n",
        "del train\n",
        "del val\n",
        "del test"
      ],
      "execution_count": 0,
      "outputs": []
    },
    {
      "metadata": {
        "id": "07xbv7MEE5u7",
        "colab_type": "text"
      },
      "cell_type": "markdown",
      "source": [
        "## Label Encoding"
      ]
    },
    {
      "metadata": {
        "id": "JskiCJCvbsHu",
        "colab_type": "code",
        "colab": {}
      },
      "cell_type": "code",
      "source": [
        "from sklearn.preprocessing import LabelEncoder\n",
        "encoder = LabelEncoder()\n",
        "y_enc_train = encoder.fit_transform(y_train)\n",
        "y_enc_test = encoder.transform(y_test)\n",
        "y_enc_val = encoder.transform(y_val)"
      ],
      "execution_count": 0,
      "outputs": []
    },
    {
      "metadata": {
        "id": "WH4EE3igFTrw",
        "colab_type": "text"
      },
      "cell_type": "markdown",
      "source": [
        "## One Hot Encoding"
      ]
    },
    {
      "metadata": {
        "id": "yVZkrTLY9olT",
        "colab_type": "code",
        "colab": {
          "base_uri": "https://localhost:8080/",
          "height": 35
        },
        "outputId": "97266c03-f53a-43ba-b6e2-b622119dddb8"
      },
      "cell_type": "code",
      "source": [
        "from keras.utils import to_categorical\n",
        "y_cat_train = to_categorical(y_enc_train,4)\n",
        "y_cat_test = to_categorical(y_enc_test,4)\n",
        "y_cat_val = to_categorical(y_enc_val,4)"
      ],
      "execution_count": 10,
      "outputs": [
        {
          "output_type": "stream",
          "text": [
            "Using TensorFlow backend.\n"
          ],
          "name": "stderr"
        }
      ]
    },
    {
      "metadata": {
        "id": "hylITnFFFZuJ",
        "colab_type": "text"
      },
      "cell_type": "markdown",
      "source": [
        "## Model Generation"
      ]
    },
    {
      "metadata": {
        "id": "o5M2Kuda9pcw",
        "colab_type": "code",
        "colab": {}
      },
      "cell_type": "code",
      "source": [
        "import keras\n",
        "from keras.models import Sequential\n",
        "from keras.layers import Dense, Conv2D, MaxPooling2D, Dropout, Flatten, BatchNormalization"
      ],
      "execution_count": 0,
      "outputs": []
    },
    {
      "metadata": {
        "id": "2GMSqxIW9r6A",
        "colab_type": "code",
        "colab": {}
      },
      "cell_type": "code",
      "source": [
        "batch_size = 128\n",
        "epochs = 200\n",
        "\n",
        "model = Sequential()\n",
        "model.add(Conv2D(32, kernel_size=(3, 3),\n",
        "                     activation='relu',\n",
        "                     input_shape=(24,32,3),strides=2))\n",
        "model.add(Conv2D(64, (3, 3), activation='relu'))\n",
        "model.add(MaxPooling2D(pool_size=(2, 2)))\n",
        "model.add(Dropout(0.25))\n",
        "model.add(Flatten())\n",
        "model.add(Dense(128, activation='relu'))\n",
        "model.add(Dropout(0.5))\n",
        "model.add(Dense(4, activation='softmax'))\n",
        "model.compile(loss=keras.losses.categorical_crossentropy,\n",
        "                  optimizer=keras.optimizers.Adam(),\n",
        "                  metrics=['accuracy'])"
      ],
      "execution_count": 0,
      "outputs": []
    },
    {
      "metadata": {
        "id": "w0KQFWRj9vKc",
        "colab_type": "code",
        "colab": {
          "base_uri": "https://localhost:8080/",
          "height": 6961
        },
        "outputId": "15836a86-8a8e-48ae-a748-7953c108ccfa"
      },
      "cell_type": "code",
      "source": [
        "model.fit(x_train,y_cat_train,batch_size,epochs ,validation_data=(x_val,y_cat_val))"
      ],
      "execution_count": 18,
      "outputs": [
        {
          "output_type": "stream",
          "text": [
            "Train on 9957 samples, validate on 71 samples\n",
            "Epoch 1/200\n",
            "9957/9957 [==============================] - 1s 136us/step - loss: 1.3889 - acc: 0.2521 - val_loss: 1.3879 - val_acc: 0.1831\n",
            "Epoch 2/200\n",
            "9957/9957 [==============================] - 1s 92us/step - loss: 1.3866 - acc: 0.2595 - val_loss: 1.3812 - val_acc: 0.5211\n",
            "Epoch 3/200\n",
            "9957/9957 [==============================] - 1s 92us/step - loss: 1.3781 - acc: 0.2869 - val_loss: 1.3847 - val_acc: 0.3099\n",
            "Epoch 4/200\n",
            "9957/9957 [==============================] - 1s 93us/step - loss: 1.3001 - acc: 0.3753 - val_loss: 1.2834 - val_acc: 0.3099\n",
            "Epoch 5/200\n",
            "9957/9957 [==============================] - 1s 92us/step - loss: 1.1372 - acc: 0.4810 - val_loss: 1.1259 - val_acc: 0.5211\n",
            "Epoch 6/200\n",
            "9957/9957 [==============================] - 1s 92us/step - loss: 1.0246 - acc: 0.5335 - val_loss: 1.1153 - val_acc: 0.5352\n",
            "Epoch 7/200\n",
            "9957/9957 [==============================] - 1s 92us/step - loss: 0.9407 - acc: 0.5804 - val_loss: 0.9285 - val_acc: 0.6056\n",
            "Epoch 8/200\n",
            "9957/9957 [==============================] - 1s 93us/step - loss: 0.8861 - acc: 0.6106 - val_loss: 0.9693 - val_acc: 0.5352\n",
            "Epoch 9/200\n",
            "9957/9957 [==============================] - 1s 92us/step - loss: 0.8480 - acc: 0.6303 - val_loss: 0.8858 - val_acc: 0.6056\n",
            "Epoch 10/200\n",
            "9957/9957 [==============================] - 1s 92us/step - loss: 0.8237 - acc: 0.6462 - val_loss: 0.8644 - val_acc: 0.5775\n",
            "Epoch 11/200\n",
            "9957/9957 [==============================] - 1s 91us/step - loss: 0.7589 - acc: 0.6785 - val_loss: 0.9854 - val_acc: 0.5915\n",
            "Epoch 12/200\n",
            "9957/9957 [==============================] - 1s 93us/step - loss: 0.7718 - acc: 0.6680 - val_loss: 0.8430 - val_acc: 0.6197\n",
            "Epoch 13/200\n",
            "9957/9957 [==============================] - 1s 93us/step - loss: 0.7175 - acc: 0.6955 - val_loss: 0.8870 - val_acc: 0.5775\n",
            "Epoch 14/200\n",
            "9957/9957 [==============================] - 1s 92us/step - loss: 0.6985 - acc: 0.7052 - val_loss: 0.8205 - val_acc: 0.6056\n",
            "Epoch 15/200\n",
            "9957/9957 [==============================] - 1s 92us/step - loss: 0.6489 - acc: 0.7344 - val_loss: 0.8503 - val_acc: 0.6056\n",
            "Epoch 16/200\n",
            "9957/9957 [==============================] - 1s 93us/step - loss: 0.6352 - acc: 0.7372 - val_loss: 0.9052 - val_acc: 0.5211\n",
            "Epoch 17/200\n",
            "9957/9957 [==============================] - 1s 92us/step - loss: 0.6140 - acc: 0.7454 - val_loss: 0.7307 - val_acc: 0.6479\n",
            "Epoch 18/200\n",
            "9957/9957 [==============================] - 1s 93us/step - loss: 0.5760 - acc: 0.7661 - val_loss: 0.7696 - val_acc: 0.6620\n",
            "Epoch 19/200\n",
            "9957/9957 [==============================] - 1s 93us/step - loss: 0.5590 - acc: 0.7733 - val_loss: 0.8879 - val_acc: 0.5775\n",
            "Epoch 20/200\n",
            "9957/9957 [==============================] - 1s 92us/step - loss: 0.5391 - acc: 0.7788 - val_loss: 0.7201 - val_acc: 0.6338\n",
            "Epoch 21/200\n",
            "9957/9957 [==============================] - 1s 92us/step - loss: 0.5197 - acc: 0.7866 - val_loss: 0.7539 - val_acc: 0.6620\n",
            "Epoch 22/200\n",
            "9957/9957 [==============================] - 1s 93us/step - loss: 0.4961 - acc: 0.8010 - val_loss: 0.6897 - val_acc: 0.6901\n",
            "Epoch 23/200\n",
            "9957/9957 [==============================] - 1s 93us/step - loss: 0.4744 - acc: 0.8041 - val_loss: 0.7148 - val_acc: 0.6620\n",
            "Epoch 24/200\n",
            "9957/9957 [==============================] - 1s 92us/step - loss: 0.4645 - acc: 0.8111 - val_loss: 0.7152 - val_acc: 0.6197\n",
            "Epoch 25/200\n",
            "9957/9957 [==============================] - 1s 93us/step - loss: 0.4747 - acc: 0.8049 - val_loss: 0.6731 - val_acc: 0.7183\n",
            "Epoch 26/200\n",
            "9957/9957 [==============================] - 1s 91us/step - loss: 0.4400 - acc: 0.8238 - val_loss: 0.6099 - val_acc: 0.6620\n",
            "Epoch 27/200\n",
            "9957/9957 [==============================] - 1s 93us/step - loss: 0.4345 - acc: 0.8230 - val_loss: 0.6577 - val_acc: 0.6479\n",
            "Epoch 28/200\n",
            "9957/9957 [==============================] - 1s 92us/step - loss: 0.4068 - acc: 0.8343 - val_loss: 0.8670 - val_acc: 0.5634\n",
            "Epoch 29/200\n",
            "9957/9957 [==============================] - 1s 92us/step - loss: 0.4043 - acc: 0.8390 - val_loss: 0.6277 - val_acc: 0.7465\n",
            "Epoch 30/200\n",
            "9957/9957 [==============================] - 1s 92us/step - loss: 0.3922 - acc: 0.8423 - val_loss: 0.7112 - val_acc: 0.5915\n",
            "Epoch 31/200\n",
            "9957/9957 [==============================] - 1s 92us/step - loss: 0.3780 - acc: 0.8503 - val_loss: 0.7430 - val_acc: 0.6056\n",
            "Epoch 32/200\n",
            "9957/9957 [==============================] - 1s 93us/step - loss: 0.3575 - acc: 0.8613 - val_loss: 0.6066 - val_acc: 0.7042\n",
            "Epoch 33/200\n",
            "9957/9957 [==============================] - 1s 93us/step - loss: 0.3536 - acc: 0.8581 - val_loss: 0.5908 - val_acc: 0.6338\n",
            "Epoch 34/200\n",
            "9957/9957 [==============================] - 1s 92us/step - loss: 0.3427 - acc: 0.8673 - val_loss: 0.6365 - val_acc: 0.6901\n",
            "Epoch 35/200\n",
            "9957/9957 [==============================] - 1s 92us/step - loss: 0.3328 - acc: 0.8701 - val_loss: 0.6152 - val_acc: 0.6620\n",
            "Epoch 36/200\n",
            "9957/9957 [==============================] - 1s 92us/step - loss: 0.3139 - acc: 0.8750 - val_loss: 0.6960 - val_acc: 0.6056\n",
            "Epoch 37/200\n",
            "9957/9957 [==============================] - 1s 93us/step - loss: 0.3371 - acc: 0.8697 - val_loss: 0.5707 - val_acc: 0.6761\n",
            "Epoch 38/200\n",
            "9957/9957 [==============================] - 1s 92us/step - loss: 0.3099 - acc: 0.8800 - val_loss: 0.7103 - val_acc: 0.6761\n",
            "Epoch 39/200\n",
            "9957/9957 [==============================] - 1s 93us/step - loss: 0.3008 - acc: 0.8813 - val_loss: 0.6400 - val_acc: 0.6620\n",
            "Epoch 40/200\n",
            "9957/9957 [==============================] - 1s 91us/step - loss: 0.3096 - acc: 0.8802 - val_loss: 0.7481 - val_acc: 0.6056\n",
            "Epoch 41/200\n",
            "9957/9957 [==============================] - 1s 94us/step - loss: 0.2880 - acc: 0.8890 - val_loss: 0.5280 - val_acc: 0.7324\n",
            "Epoch 42/200\n",
            "9957/9957 [==============================] - 1s 93us/step - loss: 0.2825 - acc: 0.8902 - val_loss: 0.5572 - val_acc: 0.7465\n",
            "Epoch 43/200\n",
            "9957/9957 [==============================] - 1s 93us/step - loss: 0.2629 - acc: 0.8977 - val_loss: 0.6658 - val_acc: 0.6901\n",
            "Epoch 44/200\n",
            "9957/9957 [==============================] - 1s 92us/step - loss: 0.2619 - acc: 0.8999 - val_loss: 0.5894 - val_acc: 0.7183\n",
            "Epoch 45/200\n",
            "9957/9957 [==============================] - 1s 93us/step - loss: 0.2556 - acc: 0.9026 - val_loss: 0.5213 - val_acc: 0.7746\n",
            "Epoch 46/200\n",
            "9957/9957 [==============================] - 1s 93us/step - loss: 0.2606 - acc: 0.9008 - val_loss: 0.6255 - val_acc: 0.6338\n",
            "Epoch 47/200\n",
            "9957/9957 [==============================] - 1s 95us/step - loss: 0.2467 - acc: 0.9081 - val_loss: 0.5887 - val_acc: 0.7465\n",
            "Epoch 48/200\n",
            "9957/9957 [==============================] - 1s 92us/step - loss: 0.2369 - acc: 0.9109 - val_loss: 0.5944 - val_acc: 0.7324\n",
            "Epoch 49/200\n",
            "9957/9957 [==============================] - 1s 92us/step - loss: 0.2425 - acc: 0.9075 - val_loss: 0.5591 - val_acc: 0.7606\n",
            "Epoch 50/200\n",
            "9957/9957 [==============================] - 1s 91us/step - loss: 0.2491 - acc: 0.9037 - val_loss: 0.5708 - val_acc: 0.7324\n",
            "Epoch 51/200\n",
            "9957/9957 [==============================] - 1s 93us/step - loss: 0.2323 - acc: 0.9104 - val_loss: 0.5806 - val_acc: 0.7183\n",
            "Epoch 52/200\n",
            "9957/9957 [==============================] - 1s 92us/step - loss: 0.2091 - acc: 0.9204 - val_loss: 0.6369 - val_acc: 0.6901\n",
            "Epoch 53/200\n",
            "9957/9957 [==============================] - 1s 92us/step - loss: 0.2149 - acc: 0.9156 - val_loss: 0.7141 - val_acc: 0.6901\n",
            "Epoch 54/200\n",
            "9957/9957 [==============================] - 1s 92us/step - loss: 0.2165 - acc: 0.9210 - val_loss: 0.5638 - val_acc: 0.7606\n",
            "Epoch 55/200\n",
            "9957/9957 [==============================] - 1s 93us/step - loss: 0.2023 - acc: 0.9230 - val_loss: 0.5133 - val_acc: 0.7465\n",
            "Epoch 56/200\n",
            "9957/9957 [==============================] - 1s 93us/step - loss: 0.2105 - acc: 0.9200 - val_loss: 0.5994 - val_acc: 0.7606\n",
            "Epoch 57/200\n",
            "9957/9957 [==============================] - 1s 93us/step - loss: 0.1994 - acc: 0.9243 - val_loss: 0.5255 - val_acc: 0.7887\n",
            "Epoch 58/200\n",
            "9957/9957 [==============================] - 1s 93us/step - loss: 0.2187 - acc: 0.9188 - val_loss: 0.5337 - val_acc: 0.8028\n",
            "Epoch 59/200\n",
            "9957/9957 [==============================] - 1s 92us/step - loss: 0.1919 - acc: 0.9291 - val_loss: 0.6148 - val_acc: 0.7324\n",
            "Epoch 60/200\n",
            "9957/9957 [==============================] - 1s 92us/step - loss: 0.1877 - acc: 0.9302 - val_loss: 0.6082 - val_acc: 0.7183\n",
            "Epoch 61/200\n",
            "9957/9957 [==============================] - 1s 92us/step - loss: 0.1854 - acc: 0.9321 - val_loss: 0.5127 - val_acc: 0.7887\n",
            "Epoch 62/200\n",
            "9957/9957 [==============================] - 1s 93us/step - loss: 0.1789 - acc: 0.9327 - val_loss: 0.5980 - val_acc: 0.7606\n",
            "Epoch 63/200\n",
            "9957/9957 [==============================] - 1s 93us/step - loss: 0.1740 - acc: 0.9381 - val_loss: 0.6701 - val_acc: 0.7465\n",
            "Epoch 64/200\n",
            "9957/9957 [==============================] - 1s 92us/step - loss: 0.1861 - acc: 0.9309 - val_loss: 0.5676 - val_acc: 0.7606\n",
            "Epoch 65/200\n",
            "9957/9957 [==============================] - 1s 93us/step - loss: 0.1701 - acc: 0.9392 - val_loss: 0.5749 - val_acc: 0.7606\n",
            "Epoch 66/200\n",
            "9957/9957 [==============================] - 1s 92us/step - loss: 0.1826 - acc: 0.9312 - val_loss: 0.6649 - val_acc: 0.7183\n",
            "Epoch 67/200\n",
            "9957/9957 [==============================] - 1s 92us/step - loss: 0.1799 - acc: 0.9339 - val_loss: 0.5164 - val_acc: 0.8169\n",
            "Epoch 68/200\n",
            "9957/9957 [==============================] - 1s 93us/step - loss: 0.1751 - acc: 0.9384 - val_loss: 0.5627 - val_acc: 0.7887\n",
            "Epoch 69/200\n",
            "9957/9957 [==============================] - 1s 93us/step - loss: 0.1830 - acc: 0.9326 - val_loss: 0.6558 - val_acc: 0.7324\n",
            "Epoch 70/200\n",
            "9957/9957 [==============================] - 1s 92us/step - loss: 0.1752 - acc: 0.9342 - val_loss: 0.5665 - val_acc: 0.8028\n",
            "Epoch 71/200\n",
            "9957/9957 [==============================] - 1s 93us/step - loss: 0.1497 - acc: 0.9465 - val_loss: 0.7101 - val_acc: 0.6901\n",
            "Epoch 72/200\n",
            "9957/9957 [==============================] - 1s 95us/step - loss: 0.1514 - acc: 0.9439 - val_loss: 0.6440 - val_acc: 0.7324\n",
            "Epoch 73/200\n",
            "9957/9957 [==============================] - 1s 94us/step - loss: 0.1557 - acc: 0.9442 - val_loss: 0.5101 - val_acc: 0.7465\n",
            "Epoch 74/200\n",
            "9957/9957 [==============================] - 1s 94us/step - loss: 0.1495 - acc: 0.9459 - val_loss: 0.6037 - val_acc: 0.7606\n",
            "Epoch 75/200\n",
            "9957/9957 [==============================] - 1s 95us/step - loss: 0.1325 - acc: 0.9517 - val_loss: 0.8246 - val_acc: 0.6901\n",
            "Epoch 76/200\n",
            "9957/9957 [==============================] - 1s 94us/step - loss: 0.1637 - acc: 0.9389 - val_loss: 0.6691 - val_acc: 0.6620\n",
            "Epoch 77/200\n",
            "9957/9957 [==============================] - 1s 94us/step - loss: 0.1404 - acc: 0.9503 - val_loss: 0.6551 - val_acc: 0.7746\n",
            "Epoch 78/200\n",
            "9957/9957 [==============================] - 1s 93us/step - loss: 0.1270 - acc: 0.9561 - val_loss: 0.6728 - val_acc: 0.7465\n",
            "Epoch 79/200\n",
            "9957/9957 [==============================] - 1s 93us/step - loss: 0.1243 - acc: 0.9563 - val_loss: 0.6381 - val_acc: 0.7746\n",
            "Epoch 80/200\n",
            "9957/9957 [==============================] - 1s 93us/step - loss: 0.1557 - acc: 0.9426 - val_loss: 0.6367 - val_acc: 0.7606\n",
            "Epoch 81/200\n",
            "9957/9957 [==============================] - 1s 92us/step - loss: 0.1410 - acc: 0.9495 - val_loss: 0.6298 - val_acc: 0.7746\n",
            "Epoch 82/200\n",
            "9957/9957 [==============================] - 1s 93us/step - loss: 0.1312 - acc: 0.9529 - val_loss: 0.5947 - val_acc: 0.7746\n",
            "Epoch 83/200\n",
            "9957/9957 [==============================] - 1s 93us/step - loss: 0.1404 - acc: 0.9489 - val_loss: 0.7372 - val_acc: 0.7324\n",
            "Epoch 84/200\n",
            "9957/9957 [==============================] - 1s 93us/step - loss: 0.1256 - acc: 0.9533 - val_loss: 0.6899 - val_acc: 0.7606\n",
            "Epoch 85/200\n",
            "9957/9957 [==============================] - 1s 93us/step - loss: 0.1264 - acc: 0.9547 - val_loss: 0.7117 - val_acc: 0.7465\n",
            "Epoch 86/200\n",
            "9957/9957 [==============================] - 1s 92us/step - loss: 0.1274 - acc: 0.9573 - val_loss: 0.6626 - val_acc: 0.8028\n",
            "Epoch 87/200\n",
            "9957/9957 [==============================] - 1s 92us/step - loss: 0.1524 - acc: 0.9466 - val_loss: 0.5029 - val_acc: 0.7887\n",
            "Epoch 88/200\n",
            "9957/9957 [==============================] - 1s 93us/step - loss: 0.1279 - acc: 0.9541 - val_loss: 0.7142 - val_acc: 0.7183\n",
            "Epoch 89/200\n",
            "9957/9957 [==============================] - 1s 92us/step - loss: 0.1229 - acc: 0.9575 - val_loss: 0.7322 - val_acc: 0.7183\n",
            "Epoch 90/200\n",
            "9957/9957 [==============================] - 1s 92us/step - loss: 0.1075 - acc: 0.9628 - val_loss: 0.6685 - val_acc: 0.7746\n",
            "Epoch 91/200\n",
            "9957/9957 [==============================] - 1s 92us/step - loss: 0.1114 - acc: 0.9595 - val_loss: 0.7126 - val_acc: 0.7746\n",
            "Epoch 92/200\n",
            "9957/9957 [==============================] - 1s 93us/step - loss: 0.1003 - acc: 0.9623 - val_loss: 0.8245 - val_acc: 0.6901\n",
            "Epoch 93/200\n",
            "9957/9957 [==============================] - 1s 93us/step - loss: 0.1115 - acc: 0.9605 - val_loss: 0.7846 - val_acc: 0.6901\n",
            "Epoch 94/200\n",
            "9957/9957 [==============================] - 1s 92us/step - loss: 0.1051 - acc: 0.9630 - val_loss: 0.7258 - val_acc: 0.7183\n",
            "Epoch 95/200\n",
            "9957/9957 [==============================] - 1s 94us/step - loss: 0.1197 - acc: 0.9562 - val_loss: 0.5785 - val_acc: 0.7746\n",
            "Epoch 96/200\n",
            "9957/9957 [==============================] - 1s 94us/step - loss: 0.1070 - acc: 0.9626 - val_loss: 0.6736 - val_acc: 0.7465\n",
            "Epoch 97/200\n",
            "9957/9957 [==============================] - 1s 93us/step - loss: 0.0999 - acc: 0.9636 - val_loss: 0.8350 - val_acc: 0.7183\n",
            "Epoch 98/200\n",
            "9957/9957 [==============================] - 1s 93us/step - loss: 0.1002 - acc: 0.9665 - val_loss: 0.6592 - val_acc: 0.8028\n",
            "Epoch 99/200\n",
            "9957/9957 [==============================] - 1s 93us/step - loss: 0.1023 - acc: 0.9641 - val_loss: 0.7376 - val_acc: 0.7465\n",
            "Epoch 100/200\n",
            "9957/9957 [==============================] - 1s 93us/step - loss: 0.1161 - acc: 0.9574 - val_loss: 0.9133 - val_acc: 0.6761\n",
            "Epoch 101/200\n",
            "9957/9957 [==============================] - 1s 92us/step - loss: 0.1185 - acc: 0.9583 - val_loss: 0.6902 - val_acc: 0.7183\n",
            "Epoch 102/200\n",
            "9957/9957 [==============================] - 1s 94us/step - loss: 0.1025 - acc: 0.9661 - val_loss: 0.7040 - val_acc: 0.7887\n",
            "Epoch 103/200\n",
            "9957/9957 [==============================] - 1s 93us/step - loss: 0.1006 - acc: 0.9649 - val_loss: 0.8325 - val_acc: 0.7324\n",
            "Epoch 104/200\n",
            "9957/9957 [==============================] - 1s 94us/step - loss: 0.1015 - acc: 0.9606 - val_loss: 0.7532 - val_acc: 0.8028\n",
            "Epoch 105/200\n",
            "9957/9957 [==============================] - 1s 93us/step - loss: 0.0942 - acc: 0.9668 - val_loss: 0.6877 - val_acc: 0.7746\n",
            "Epoch 106/200\n",
            "9957/9957 [==============================] - 1s 95us/step - loss: 0.1057 - acc: 0.9620 - val_loss: 0.5898 - val_acc: 0.8169\n",
            "Epoch 107/200\n",
            "9957/9957 [==============================] - 1s 92us/step - loss: 0.0939 - acc: 0.9673 - val_loss: 0.5446 - val_acc: 0.7887\n",
            "Epoch 108/200\n",
            "9957/9957 [==============================] - 1s 93us/step - loss: 0.0942 - acc: 0.9680 - val_loss: 0.7258 - val_acc: 0.7887\n",
            "Epoch 109/200\n",
            "9957/9957 [==============================] - 1s 93us/step - loss: 0.1080 - acc: 0.9601 - val_loss: 0.6246 - val_acc: 0.8169\n",
            "Epoch 110/200\n",
            "9957/9957 [==============================] - 1s 93us/step - loss: 0.1159 - acc: 0.9605 - val_loss: 0.7410 - val_acc: 0.7465\n",
            "Epoch 111/200\n",
            "9957/9957 [==============================] - 1s 93us/step - loss: 0.0805 - acc: 0.9722 - val_loss: 0.7213 - val_acc: 0.7746\n",
            "Epoch 112/200\n",
            "9957/9957 [==============================] - 1s 93us/step - loss: 0.0976 - acc: 0.9631 - val_loss: 0.6855 - val_acc: 0.8310\n",
            "Epoch 113/200\n",
            "9957/9957 [==============================] - 1s 92us/step - loss: 0.0932 - acc: 0.9668 - val_loss: 0.7429 - val_acc: 0.7887\n",
            "Epoch 114/200\n",
            "9957/9957 [==============================] - 1s 93us/step - loss: 0.0956 - acc: 0.9652 - val_loss: 0.7220 - val_acc: 0.8169\n",
            "Epoch 115/200\n",
            "9957/9957 [==============================] - 1s 92us/step - loss: 0.0755 - acc: 0.9727 - val_loss: 0.7962 - val_acc: 0.7465\n",
            "Epoch 116/200\n",
            "9957/9957 [==============================] - 1s 92us/step - loss: 0.0863 - acc: 0.9689 - val_loss: 0.7582 - val_acc: 0.8028\n",
            "Epoch 117/200\n",
            "9957/9957 [==============================] - 1s 93us/step - loss: 0.0924 - acc: 0.9669 - val_loss: 0.7405 - val_acc: 0.7465\n",
            "Epoch 118/200\n",
            "9957/9957 [==============================] - 1s 93us/step - loss: 0.0871 - acc: 0.9688 - val_loss: 0.6700 - val_acc: 0.8169\n",
            "Epoch 119/200\n",
            "9957/9957 [==============================] - 1s 94us/step - loss: 0.0845 - acc: 0.9697 - val_loss: 0.6917 - val_acc: 0.7465\n",
            "Epoch 120/200\n",
            "9957/9957 [==============================] - 1s 93us/step - loss: 0.0948 - acc: 0.9677 - val_loss: 0.6662 - val_acc: 0.8451\n",
            "Epoch 121/200\n",
            "9957/9957 [==============================] - 1s 93us/step - loss: 0.1075 - acc: 0.9628 - val_loss: 0.5952 - val_acc: 0.8028\n",
            "Epoch 122/200\n",
            "9957/9957 [==============================] - 1s 92us/step - loss: 0.0851 - acc: 0.9704 - val_loss: 0.8318 - val_acc: 0.8169\n",
            "Epoch 123/200\n",
            "9957/9957 [==============================] - 1s 92us/step - loss: 0.0742 - acc: 0.9745 - val_loss: 0.7972 - val_acc: 0.8028\n",
            "Epoch 124/200\n",
            "9957/9957 [==============================] - 1s 93us/step - loss: 0.0789 - acc: 0.9719 - val_loss: 0.6992 - val_acc: 0.8169\n",
            "Epoch 125/200\n",
            "9957/9957 [==============================] - 1s 93us/step - loss: 0.0812 - acc: 0.9707 - val_loss: 0.9963 - val_acc: 0.7042\n",
            "Epoch 126/200\n",
            "9957/9957 [==============================] - 1s 93us/step - loss: 0.0846 - acc: 0.9694 - val_loss: 0.7564 - val_acc: 0.7746\n",
            "Epoch 127/200\n",
            "9957/9957 [==============================] - 1s 94us/step - loss: 0.0697 - acc: 0.9765 - val_loss: 0.6418 - val_acc: 0.8028\n",
            "Epoch 128/200\n",
            "9957/9957 [==============================] - 1s 93us/step - loss: 0.0765 - acc: 0.9723 - val_loss: 0.7038 - val_acc: 0.7606\n",
            "Epoch 129/200\n",
            "9957/9957 [==============================] - 1s 93us/step - loss: 0.0946 - acc: 0.9665 - val_loss: 0.6963 - val_acc: 0.8310\n",
            "Epoch 130/200\n",
            "9957/9957 [==============================] - 1s 93us/step - loss: 0.0905 - acc: 0.9686 - val_loss: 0.7279 - val_acc: 0.7746\n",
            "Epoch 131/200\n",
            "9957/9957 [==============================] - 1s 93us/step - loss: 0.0846 - acc: 0.9696 - val_loss: 0.7754 - val_acc: 0.7887\n",
            "Epoch 132/200\n",
            "9957/9957 [==============================] - 1s 92us/step - loss: 0.0728 - acc: 0.9753 - val_loss: 0.7422 - val_acc: 0.8451\n",
            "Epoch 133/200\n",
            "9957/9957 [==============================] - 1s 93us/step - loss: 0.0898 - acc: 0.9685 - val_loss: 0.7858 - val_acc: 0.8028\n",
            "Epoch 134/200\n",
            "9957/9957 [==============================] - 1s 93us/step - loss: 0.0856 - acc: 0.9700 - val_loss: 0.6923 - val_acc: 0.8028\n",
            "Epoch 135/200\n",
            "9957/9957 [==============================] - 1s 93us/step - loss: 0.0730 - acc: 0.9744 - val_loss: 0.7959 - val_acc: 0.7746\n",
            "Epoch 136/200\n",
            "9957/9957 [==============================] - 1s 93us/step - loss: 0.0710 - acc: 0.9733 - val_loss: 0.7200 - val_acc: 0.8028\n",
            "Epoch 137/200\n",
            "9957/9957 [==============================] - 1s 94us/step - loss: 0.0755 - acc: 0.9712 - val_loss: 0.7962 - val_acc: 0.8169\n",
            "Epoch 138/200\n",
            "9957/9957 [==============================] - 1s 93us/step - loss: 0.0751 - acc: 0.9727 - val_loss: 0.6799 - val_acc: 0.8169\n",
            "Epoch 139/200\n",
            "9957/9957 [==============================] - 1s 93us/step - loss: 0.0806 - acc: 0.9715 - val_loss: 0.7381 - val_acc: 0.7887\n",
            "Epoch 140/200\n",
            "9957/9957 [==============================] - 1s 94us/step - loss: 0.0699 - acc: 0.9780 - val_loss: 0.8315 - val_acc: 0.7887\n",
            "Epoch 141/200\n",
            "9957/9957 [==============================] - 1s 93us/step - loss: 0.0837 - acc: 0.9716 - val_loss: 0.7413 - val_acc: 0.8028\n",
            "Epoch 142/200\n",
            "9957/9957 [==============================] - 1s 93us/step - loss: 0.0737 - acc: 0.9740 - val_loss: 0.9032 - val_acc: 0.7606\n",
            "Epoch 143/200\n",
            "9957/9957 [==============================] - 1s 92us/step - loss: 0.0696 - acc: 0.9771 - val_loss: 0.8742 - val_acc: 0.7746\n",
            "Epoch 144/200\n",
            "9957/9957 [==============================] - 1s 94us/step - loss: 0.0728 - acc: 0.9752 - val_loss: 0.7421 - val_acc: 0.7887\n",
            "Epoch 145/200\n",
            "9957/9957 [==============================] - 1s 93us/step - loss: 0.0732 - acc: 0.9731 - val_loss: 0.6838 - val_acc: 0.8028\n",
            "Epoch 146/200\n",
            "9957/9957 [==============================] - 1s 93us/step - loss: 0.0745 - acc: 0.9760 - val_loss: 0.7786 - val_acc: 0.8028\n",
            "Epoch 147/200\n",
            "9957/9957 [==============================] - 1s 93us/step - loss: 0.0599 - acc: 0.9799 - val_loss: 0.8662 - val_acc: 0.7746\n",
            "Epoch 148/200\n",
            "9957/9957 [==============================] - 1s 93us/step - loss: 0.0975 - acc: 0.9641 - val_loss: 1.0421 - val_acc: 0.7465\n",
            "Epoch 149/200\n",
            "9957/9957 [==============================] - 1s 93us/step - loss: 0.0731 - acc: 0.9743 - val_loss: 0.9132 - val_acc: 0.7465\n",
            "Epoch 150/200\n",
            "9957/9957 [==============================] - 1s 93us/step - loss: 0.0650 - acc: 0.9777 - val_loss: 0.8000 - val_acc: 0.7887\n",
            "Epoch 151/200\n",
            "9957/9957 [==============================] - 1s 94us/step - loss: 0.0731 - acc: 0.9750 - val_loss: 0.6649 - val_acc: 0.8169\n",
            "Epoch 152/200\n",
            "9957/9957 [==============================] - 1s 93us/step - loss: 0.0776 - acc: 0.9732 - val_loss: 0.7813 - val_acc: 0.7887\n",
            "Epoch 153/200\n",
            "9957/9957 [==============================] - 1s 92us/step - loss: 0.0808 - acc: 0.9709 - val_loss: 0.6958 - val_acc: 0.7746\n",
            "Epoch 154/200\n",
            "9957/9957 [==============================] - 1s 93us/step - loss: 0.0600 - acc: 0.9797 - val_loss: 0.8046 - val_acc: 0.7887\n",
            "Epoch 155/200\n",
            "9957/9957 [==============================] - 1s 94us/step - loss: 0.0678 - acc: 0.9761 - val_loss: 0.6992 - val_acc: 0.8169\n",
            "Epoch 156/200\n",
            "9957/9957 [==============================] - 1s 94us/step - loss: 0.0855 - acc: 0.9700 - val_loss: 0.6914 - val_acc: 0.8028\n",
            "Epoch 157/200\n",
            "9957/9957 [==============================] - 1s 94us/step - loss: 0.0763 - acc: 0.9719 - val_loss: 0.7768 - val_acc: 0.8310\n",
            "Epoch 158/200\n",
            "9957/9957 [==============================] - 1s 94us/step - loss: 0.0593 - acc: 0.9799 - val_loss: 0.8312 - val_acc: 0.8028\n",
            "Epoch 159/200\n",
            "9957/9957 [==============================] - 1s 94us/step - loss: 0.0903 - acc: 0.9699 - val_loss: 0.7614 - val_acc: 0.8310\n",
            "Epoch 160/200\n",
            "9957/9957 [==============================] - 1s 94us/step - loss: 0.0601 - acc: 0.9797 - val_loss: 0.7016 - val_acc: 0.8451\n",
            "Epoch 161/200\n",
            "9957/9957 [==============================] - 1s 94us/step - loss: 0.0638 - acc: 0.9762 - val_loss: 0.8151 - val_acc: 0.7746\n",
            "Epoch 162/200\n",
            "9957/9957 [==============================] - 1s 94us/step - loss: 0.0670 - acc: 0.9774 - val_loss: 0.7428 - val_acc: 0.8169\n",
            "Epoch 163/200\n",
            "9957/9957 [==============================] - 1s 94us/step - loss: 0.0656 - acc: 0.9769 - val_loss: 0.8615 - val_acc: 0.8028\n",
            "Epoch 164/200\n",
            "9957/9957 [==============================] - 1s 93us/step - loss: 0.0548 - acc: 0.9823 - val_loss: 0.7413 - val_acc: 0.8310\n",
            "Epoch 165/200\n",
            "9957/9957 [==============================] - 1s 95us/step - loss: 0.0743 - acc: 0.9732 - val_loss: 0.7508 - val_acc: 0.8028\n",
            "Epoch 166/200\n",
            "9957/9957 [==============================] - 1s 94us/step - loss: 0.0659 - acc: 0.9766 - val_loss: 0.7238 - val_acc: 0.7606\n",
            "Epoch 167/200\n",
            "9957/9957 [==============================] - 1s 93us/step - loss: 0.0759 - acc: 0.9728 - val_loss: 0.7748 - val_acc: 0.8310\n",
            "Epoch 168/200\n",
            "9957/9957 [==============================] - 1s 93us/step - loss: 0.0559 - acc: 0.9797 - val_loss: 0.7212 - val_acc: 0.8310\n",
            "Epoch 169/200\n",
            "9957/9957 [==============================] - 1s 94us/step - loss: 0.0654 - acc: 0.9759 - val_loss: 0.9349 - val_acc: 0.7746\n",
            "Epoch 170/200\n",
            "9957/9957 [==============================] - 1s 93us/step - loss: 0.0683 - acc: 0.9775 - val_loss: 0.8723 - val_acc: 0.8028\n",
            "Epoch 171/200\n",
            "9957/9957 [==============================] - 1s 93us/step - loss: 0.0735 - acc: 0.9759 - val_loss: 0.8393 - val_acc: 0.8169\n",
            "Epoch 172/200\n",
            "9957/9957 [==============================] - 1s 93us/step - loss: 0.0598 - acc: 0.9793 - val_loss: 0.8728 - val_acc: 0.7746\n",
            "Epoch 173/200\n",
            "9957/9957 [==============================] - 1s 93us/step - loss: 0.0696 - acc: 0.9765 - val_loss: 0.7835 - val_acc: 0.8028\n",
            "Epoch 174/200\n",
            "9957/9957 [==============================] - 1s 93us/step - loss: 0.0610 - acc: 0.9781 - val_loss: 0.7396 - val_acc: 0.7746\n",
            "Epoch 175/200\n",
            "9957/9957 [==============================] - 1s 92us/step - loss: 0.0568 - acc: 0.9814 - val_loss: 1.0642 - val_acc: 0.7183\n",
            "Epoch 176/200\n",
            "9957/9957 [==============================] - 1s 94us/step - loss: 0.0556 - acc: 0.9822 - val_loss: 0.7745 - val_acc: 0.8451\n",
            "Epoch 177/200\n",
            "9957/9957 [==============================] - 1s 94us/step - loss: 0.0643 - acc: 0.9775 - val_loss: 0.8713 - val_acc: 0.8169\n",
            "Epoch 178/200\n",
            "9957/9957 [==============================] - 1s 93us/step - loss: 0.0576 - acc: 0.9794 - val_loss: 0.8459 - val_acc: 0.8310\n",
            "Epoch 179/200\n",
            "9957/9957 [==============================] - 1s 94us/step - loss: 0.0614 - acc: 0.9785 - val_loss: 0.7897 - val_acc: 0.8169\n",
            "Epoch 180/200\n",
            "9957/9957 [==============================] - 1s 93us/step - loss: 0.0695 - acc: 0.9758 - val_loss: 1.0005 - val_acc: 0.7746\n",
            "Epoch 181/200\n",
            "9957/9957 [==============================] - 1s 93us/step - loss: 0.0688 - acc: 0.9769 - val_loss: 0.8546 - val_acc: 0.7887\n",
            "Epoch 182/200\n",
            "9957/9957 [==============================] - 1s 92us/step - loss: 0.0644 - acc: 0.9798 - val_loss: 0.9296 - val_acc: 0.7746\n",
            "Epoch 183/200\n",
            "9957/9957 [==============================] - 1s 93us/step - loss: 0.0740 - acc: 0.9749 - val_loss: 1.0636 - val_acc: 0.7324\n",
            "Epoch 184/200\n",
            "9957/9957 [==============================] - 1s 93us/step - loss: 0.0611 - acc: 0.9776 - val_loss: 0.8712 - val_acc: 0.8169\n",
            "Epoch 185/200\n",
            "9957/9957 [==============================] - 1s 92us/step - loss: 0.0505 - acc: 0.9818 - val_loss: 0.8664 - val_acc: 0.8169\n",
            "Epoch 186/200\n",
            "9957/9957 [==============================] - 1s 93us/step - loss: 0.0612 - acc: 0.9790 - val_loss: 0.7579 - val_acc: 0.8028\n",
            "Epoch 187/200\n",
            "9957/9957 [==============================] - 1s 93us/step - loss: 0.0597 - acc: 0.9781 - val_loss: 1.0245 - val_acc: 0.7183\n",
            "Epoch 188/200\n",
            "9957/9957 [==============================] - 1s 93us/step - loss: 0.0670 - acc: 0.9769 - val_loss: 0.8937 - val_acc: 0.8028\n",
            "Epoch 189/200\n",
            "9957/9957 [==============================] - 1s 93us/step - loss: 0.0658 - acc: 0.9770 - val_loss: 0.8787 - val_acc: 0.7887\n",
            "Epoch 190/200\n",
            "9957/9957 [==============================] - 1s 93us/step - loss: 0.0484 - acc: 0.9835 - val_loss: 0.8255 - val_acc: 0.7746\n",
            "Epoch 191/200\n",
            "9957/9957 [==============================] - 1s 93us/step - loss: 0.0597 - acc: 0.9791 - val_loss: 1.2279 - val_acc: 0.7042\n",
            "Epoch 192/200\n",
            "9957/9957 [==============================] - 1s 93us/step - loss: 0.0751 - acc: 0.9729 - val_loss: 0.9359 - val_acc: 0.8028\n",
            "Epoch 193/200\n",
            "9957/9957 [==============================] - 1s 93us/step - loss: 0.0538 - acc: 0.9818 - val_loss: 0.8204 - val_acc: 0.8310\n",
            "Epoch 194/200\n",
            "9957/9957 [==============================] - 1s 93us/step - loss: 0.0443 - acc: 0.9836 - val_loss: 1.0555 - val_acc: 0.7887\n",
            "Epoch 195/200\n",
            "9957/9957 [==============================] - 1s 92us/step - loss: 0.1025 - acc: 0.9638 - val_loss: 0.9332 - val_acc: 0.7465\n",
            "Epoch 196/200\n",
            "9957/9957 [==============================] - 1s 92us/step - loss: 0.0745 - acc: 0.9747 - val_loss: 0.9868 - val_acc: 0.8028\n",
            "Epoch 197/200\n",
            "9957/9957 [==============================] - 1s 93us/step - loss: 0.0518 - acc: 0.9827 - val_loss: 0.8132 - val_acc: 0.7887\n",
            "Epoch 198/200\n",
            "9957/9957 [==============================] - 1s 92us/step - loss: 0.0459 - acc: 0.9842 - val_loss: 0.8008 - val_acc: 0.8169\n",
            "Epoch 199/200\n",
            "9957/9957 [==============================] - 1s 93us/step - loss: 0.0495 - acc: 0.9837 - val_loss: 0.9473 - val_acc: 0.8028\n",
            "Epoch 200/200\n",
            "9957/9957 [==============================] - 1s 93us/step - loss: 0.0550 - acc: 0.9799 - val_loss: 1.0192 - val_acc: 0.8028\n"
          ],
          "name": "stdout"
        },
        {
          "output_type": "execute_result",
          "data": {
            "text/plain": [
              "<keras.callbacks.History at 0x7f0b3a3b8c18>"
            ]
          },
          "metadata": {
            "tags": []
          },
          "execution_count": 18
        }
      ]
    },
    {
      "metadata": {
        "id": "tX1Wvww79xG0",
        "colab_type": "code",
        "colab": {}
      },
      "cell_type": "code",
      "source": [
        "y_pred = model.predict_classes(x_test)"
      ],
      "execution_count": 0,
      "outputs": []
    },
    {
      "metadata": {
        "id": "zO1qZN4WAyam",
        "colab_type": "code",
        "colab": {
          "base_uri": "https://localhost:8080/",
          "height": 207
        },
        "outputId": "deb4a371-64ee-4b1c-9cfc-da51efd3af3f"
      },
      "cell_type": "code",
      "source": [
        "from sklearn.metrics import classification_report\n",
        "print(classification_report(y_pred,y_enc_test))"
      ],
      "execution_count": 20,
      "outputs": [
        {
          "output_type": "stream",
          "text": [
            "              precision    recall  f1-score   support\n",
            "\n",
            "           0       0.70      0.65      0.68       669\n",
            "           1       0.90      0.94      0.92       596\n",
            "           2       0.73      0.94      0.82       479\n",
            "           3       0.69      0.58      0.63       743\n",
            "\n",
            "   micro avg       0.76      0.76      0.76      2487\n",
            "   macro avg       0.76      0.78      0.76      2487\n",
            "weighted avg       0.75      0.76      0.75      2487\n",
            "\n"
          ],
          "name": "stdout"
        }
      ]
    },
    {
      "metadata": {
        "id": "6Z55SQMqCS2q",
        "colab_type": "code",
        "colab": {
          "base_uri": "https://localhost:8080/",
          "height": 69
        },
        "outputId": "89bdd9bc-71ae-4fc4-87ce-08dab9e6f97c"
      },
      "cell_type": "code",
      "source": [
        "loss,accuracy = model.evaluate(x_test,y_cat_test)\n",
        "print(\"Loss - \",loss)\n",
        "print(\"Accuracy - \",accuracy)"
      ],
      "execution_count": 21,
      "outputs": [
        {
          "output_type": "stream",
          "text": [
            "2487/2487 [==============================] - 0s 98us/step\n",
            "Loss -  1.1973469674131887\n",
            "Accuracy -  0.7567350219472326\n"
          ],
          "name": "stdout"
        }
      ]
    }
  ]
}